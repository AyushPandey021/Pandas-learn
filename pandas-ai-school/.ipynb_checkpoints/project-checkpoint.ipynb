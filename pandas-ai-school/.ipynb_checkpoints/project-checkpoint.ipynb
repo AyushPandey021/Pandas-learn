{
 "cells": [
  {
   "cell_type": "code",
   "execution_count": 4,
   "id": "d0d7454d-36d5-4ad8-b378-2cb5f56e3478",
   "metadata": {},
   "outputs": [],
   "source": [
    "import pandas as pd\n",
    "import numpy as np"
   ]
  },
  {
   "cell_type": "markdown",
   "id": "d8cc12f2-a7d7-49c9-85b3-8acab861b314",
   "metadata": {},
   "source": [
    "Project = loading the data "
   ]
  },
  {
   "cell_type": "markdown",
   "id": "5742f115-b3d7-4774-899d-456498cf2b65",
   "metadata": {},
   "source": [
    "Make a new coloum for episode count \n",
    "make a new column for time stamp\n",
    "which anime has the highest scoring anime \n",
    "which anime has the highest episode count \n",
    "which is the logest running anime"
   ]
  },
  {
   "cell_type": "code",
   "execution_count": null,
   "id": "434fadcf-c5f7-4ba1-84ff-1a7f40996e0f",
   "metadata": {},
   "outputs": [],
   "source": [
    "pd.read_csv(\"\"C:\\Users\\vloga\\OneDrive\\Desktop\\Libary-DS\\Pandas\\pandas-ai-school\\anime.csv\"\")"
   ]
  },
  {
   "cell_type": "code",
   "execution_count": null,
   "id": "054d80e0-0964-4c47-9878-ea65246bf10e",
   "metadata": {},
   "outputs": [],
   "source": []
  },
  {
   "cell_type": "code",
   "execution_count": null,
   "id": "a77d016e-dd5b-4059-acb2-348bb4563760",
   "metadata": {},
   "outputs": [],
   "source": [
    "a"
   ]
  },
  {
   "cell_type": "code",
   "execution_count": null,
   "id": "b3d1619e-b6cb-47f5-a5b9-b7e0b63dbabd",
   "metadata": {},
   "outputs": [],
   "source": []
  },
  {
   "cell_type": "code",
   "execution_count": null,
   "id": "ddab2252-ac14-46c7-9533-b17bb62d5711",
   "metadata": {},
   "outputs": [],
   "source": []
  },
  {
   "cell_type": "code",
   "execution_count": null,
   "id": "4ec005f6-9a50-4f1d-b7c2-35e77f8e04ff",
   "metadata": {},
   "outputs": [],
   "source": []
  },
  {
   "cell_type": "code",
   "execution_count": null,
   "id": "6eb90026-890a-4d4b-bdf7-f128b1191384",
   "metadata": {},
   "outputs": [],
   "source": []
  },
  {
   "cell_type": "code",
   "execution_count": null,
   "id": "5916735a-723c-4194-902a-c1fcbe1a9291",
   "metadata": {},
   "outputs": [],
   "source": []
  },
  {
   "cell_type": "code",
   "execution_count": null,
   "id": "6d49050d-e4c2-4249-b398-5311cbd26052",
   "metadata": {},
   "outputs": [],
   "source": []
  },
  {
   "cell_type": "code",
   "execution_count": null,
   "id": "ffff2636-6bca-430c-8167-9f53ec1842ee",
   "metadata": {},
   "outputs": [],
   "source": []
  },
  {
   "cell_type": "code",
   "execution_count": null,
   "id": "c1936268-8b65-4240-9c41-42cdebe05610",
   "metadata": {},
   "outputs": [],
   "source": []
  },
  {
   "cell_type": "code",
   "execution_count": null,
   "id": "3279a70f-59a0-4286-9e6f-75f40ebf40c1",
   "metadata": {},
   "outputs": [],
   "source": []
  },
  {
   "cell_type": "code",
   "execution_count": null,
   "id": "ab14fe07-1e9d-4976-a374-f18fea5df0a5",
   "metadata": {},
   "outputs": [],
   "source": []
  },
  {
   "cell_type": "code",
   "execution_count": null,
   "id": "a1a6705e-ac49-4dc2-a86a-c7595d37e40f",
   "metadata": {},
   "outputs": [],
   "source": []
  },
  {
   "cell_type": "code",
   "execution_count": null,
   "id": "9a51b640-c9af-42bc-a216-31381c0a2229",
   "metadata": {},
   "outputs": [],
   "source": []
  },
  {
   "cell_type": "code",
   "execution_count": null,
   "id": "f92c4344-d5aa-456f-97b3-854345fbca57",
   "metadata": {},
   "outputs": [],
   "source": []
  },
  {
   "cell_type": "code",
   "execution_count": null,
   "id": "f6107b03-0e46-43ba-b0f8-7c418732bb0c",
   "metadata": {},
   "outputs": [],
   "source": []
  },
  {
   "cell_type": "code",
   "execution_count": null,
   "id": "6470d912-4078-438b-af0f-9a40aefad3b7",
   "metadata": {},
   "outputs": [],
   "source": []
  }
 ],
 "metadata": {
  "kernelspec": {
   "display_name": "Python 3 (ipykernel)",
   "language": "python",
   "name": "python3"
  },
  "language_info": {
   "codemirror_mode": {
    "name": "ipython",
    "version": 3
   },
   "file_extension": ".py",
   "mimetype": "text/x-python",
   "name": "python",
   "nbconvert_exporter": "python",
   "pygments_lexer": "ipython3",
   "version": "3.13.5"
  }
 },
 "nbformat": 4,
 "nbformat_minor": 5
}
