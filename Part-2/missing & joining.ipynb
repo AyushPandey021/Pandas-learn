{
 "cells": [
  {
   "cell_type": "code",
   "execution_count": null,
   "id": "e382bc87-0663-48e0-8962-1a645b26b26e",
   "metadata": {},
   "outputs": [],
   "source": [
    "import numply as np\n",
    "import pandas as pd\n"
   ]
  },
  {
   "cell_type": "markdown",
   "id": "3c279253-94e6-4092-a308-912e2a8ed3bb",
   "metadata": {},
   "source": [
    "Merging 2 dataframes\n"
   ]
  },
  {
   "cell_type": "code",
   "execution_count": 33,
   "id": "9ff58d83-89f9-4d53-bcea-852079cc014c",
   "metadata": {},
   "outputs": [
    {
     "ename": "NameError",
     "evalue": "name 'pd' is not defined",
     "output_type": "error",
     "traceback": [
      "\u001b[31m---------------------------------------------------------------------------\u001b[39m",
      "\u001b[31mNameError\u001b[39m                                 Traceback (most recent call last)",
      "\u001b[36mCell\u001b[39m\u001b[36m \u001b[39m\u001b[32mIn[33]\u001b[39m\u001b[32m, line 1\u001b[39m\n\u001b[32m----> \u001b[39m\u001b[32m1\u001b[39m employees = \u001b[43mpd\u001b[49m.DataFrame({\n\u001b[32m      2\u001b[39m     \u001b[33m'\u001b[39m\u001b[33memployee_id\u001b[39m\u001b[33m'\u001b[39m:[\u001b[32m1\u001b[39m,\u001b[32m2\u001b[39m,\u001b[32m3\u001b[39m,\u001b[32m4\u001b[39m,\u001b[32m5\u001b[39m],\n\u001b[32m      3\u001b[39m     \u001b[33m'\u001b[39m\u001b[33mname\u001b[39m\u001b[33m'\u001b[39m:[\u001b[33m'\u001b[39m\u001b[33mJohn\u001b[39m\u001b[33m'\u001b[39m,\u001b[33m'\u001b[39m\u001b[33mAnna\u001b[39m\u001b[33m'\u001b[39m,\u001b[33m'\u001b[39m\u001b[33mPeter\u001b[39m\u001b[33m'\u001b[39m, \u001b[33m'\u001b[39m\u001b[33mLinda\u001b[39m\u001b[33m'\u001b[39m,\u001b[33m'\u001b[39m\u001b[33mBob\u001b[39m\u001b[33m'\u001b[39m],\n\u001b[32m      4\u001b[39m     \u001b[33m'\u001b[39m\u001b[33mdepartment\u001b[39m\u001b[33m'\u001b[39m:[\u001b[33m'\u001b[39m\u001b[33mHR\u001b[39m\u001b[33m'\u001b[39m,\u001b[33m'\u001b[39m\u001b[33mIT\u001b[39m\u001b[33m'\u001b[39m,\u001b[33m'\u001b[39m\u001b[33mFinance\u001b[39m\u001b[33m'\u001b[39m,\u001b[33m'\u001b[39m\u001b[33mIT\u001b[39m\u001b[33m'\u001b[39m,\u001b[33m'\u001b[39m\u001b[33mHR\u001b[39m\u001b[33m'\u001b[39m]\n\u001b[32m      5\u001b[39m })\n\u001b[32m      6\u001b[39m \u001b[38;5;66;03m# dataframe-2\u001b[39;00m\n\u001b[32m      7\u001b[39m salaries = pd.DataFrame({\n\u001b[32m      8\u001b[39m     \u001b[33m'\u001b[39m\u001b[33memployee_id\u001b[39m\u001b[33m'\u001b[39m:[\u001b[32m1\u001b[39m,\u001b[32m2\u001b[39m,\u001b[32m3\u001b[39m,\u001b[32m6\u001b[39m,\u001b[32m7\u001b[39m,\u001b[32m8\u001b[39m],\n\u001b[32m      9\u001b[39m     \u001b[33m'\u001b[39m\u001b[33msalary\u001b[39m\u001b[33m'\u001b[39m:[\u001b[32m60000\u001b[39m,\u001b[32m80000\u001b[39m,\u001b[32m65000\u001b[39m,\u001b[32m70000\u001b[39m,\u001b[32m90000\u001b[39m],\n\u001b[32m     10\u001b[39m     \u001b[33m'\u001b[39m\u001b[33mbonus\u001b[39m\u001b[33m'\u001b[39m:[\u001b[32m5000\u001b[39m,\u001b[32m10000\u001b[39m,\u001b[32m70000\u001b[39m,\u001b[32m80000\u001b[39m,\u001b[32m12000\u001b[39m]\n\u001b[32m     11\u001b[39m })\n",
      "\u001b[31mNameError\u001b[39m: name 'pd' is not defined"
     ]
    }
   ],
   "source": [
    "employees = pd.DataFrame({\n",
    "    'employee_id':[1,2,3,4,5],\n",
    "    'name':['John','Anna','Peter', 'Linda','Bob'],\n",
    "    'department':['HR','IT','Finance','IT','HR']\n",
    "})\n",
    "# dataframe-2\n",
    "salaries = pd.DataFrame({\n",
    "    'employee_id':[1,2,3,6,7,8],\n",
    "    'salary':[60000,80000,65000,70000,90000],\n",
    "    'bonus':[5000,10000,70000,80000,12000]\n",
    "})\n",
    "    "
   ]
  },
  {
   "cell_type": "code",
   "execution_count": 55,
   "id": "1bc76c48-91a7-45e2-bf3c-6bee29b3507d",
   "metadata": {},
   "outputs": [
    {
     "ename": "NameError",
     "evalue": "name 'employees' is not defined",
     "output_type": "error",
     "traceback": [
      "\u001b[31m---------------------------------------------------------------------------\u001b[39m",
      "\u001b[31mNameError\u001b[39m                                 Traceback (most recent call last)",
      "\u001b[36mCell\u001b[39m\u001b[36m \u001b[39m\u001b[32mIn[55]\u001b[39m\u001b[32m, line 1\u001b[39m\n\u001b[32m----> \u001b[39m\u001b[32m1\u001b[39m \u001b[43memployees\u001b[49m\n",
      "\u001b[31mNameError\u001b[39m: name 'employees' is not defined"
     ]
    }
   ],
   "source": [
    "employees"
   ]
  },
  {
   "cell_type": "code",
   "execution_count": null,
   "id": "e5ba5c5e-0a44-47c6-9d2c-107ebcf01a64",
   "metadata": {},
   "outputs": [],
   "source": []
  },
  {
   "cell_type": "code",
   "execution_count": null,
   "id": "610d5fd4-74c1-448f-a792-13ae7a513fe9",
   "metadata": {},
   "outputs": [],
   "source": []
  },
  {
   "cell_type": "code",
   "execution_count": null,
   "id": "c7127d92-8075-4371-a4fe-66354a5a2239",
   "metadata": {},
   "outputs": [],
   "source": []
  },
  {
   "cell_type": "code",
   "execution_count": null,
   "id": "0399d7ca-95e2-4af1-b962-e96c4bf72134",
   "metadata": {},
   "outputs": [],
   "source": []
  },
  {
   "cell_type": "code",
   "execution_count": 31,
   "id": "3564d2c8-714a-4410-8512-5550f4763a38",
   "metadata": {},
   "outputs": [
    {
     "ename": "NameError",
     "evalue": "name 'employees' is not defined",
     "output_type": "error",
     "traceback": [
      "\u001b[31m---------------------------------------------------------------------------\u001b[39m",
      "\u001b[31mNameError\u001b[39m                                 Traceback (most recent call last)",
      "\u001b[36mCell\u001b[39m\u001b[36m \u001b[39m\u001b[32mIn[31]\u001b[39m\u001b[32m, line 1\u001b[39m\n\u001b[32m----> \u001b[39m\u001b[32m1\u001b[39m \u001b[43memployees\u001b[49m\n",
      "\u001b[31mNameError\u001b[39m: name 'employees' is not defined"
     ]
    }
   ],
   "source": [
    "employees\n"
   ]
  },
  {
   "cell_type": "code",
   "execution_count": null,
   "id": "98a6fb1c-7c6d-4123-b81a-9718954af0cf",
   "metadata": {},
   "outputs": [],
   "source": []
  },
  {
   "cell_type": "code",
   "execution_count": 57,
   "id": "28cc6995-20d0-4053-bd1d-76fae3946c81",
   "metadata": {},
   "outputs": [
    {
     "ename": "NameError",
     "evalue": "name 'pd' is not defined",
     "output_type": "error",
     "traceback": [
      "\u001b[31m---------------------------------------------------------------------------\u001b[39m",
      "\u001b[31mNameError\u001b[39m                                 Traceback (most recent call last)",
      "\u001b[36mCell\u001b[39m\u001b[36m \u001b[39m\u001b[32mIn[57]\u001b[39m\u001b[32m, line 1\u001b[39m\n\u001b[32m----> \u001b[39m\u001b[32m1\u001b[39m \u001b[43mpd\u001b[49m.marge(employees,salaries)\n",
      "\u001b[31mNameError\u001b[39m: name 'pd' is not defined"
     ]
    }
   ],
   "source": [
    "pd.marge(employees,salaries)"
   ]
  },
  {
   "cell_type": "code",
   "execution_count": null,
   "id": "68e1464c-1652-4153-a05d-90123eec66bc",
   "metadata": {},
   "outputs": [],
   "source": []
  },
  {
   "cell_type": "code",
   "execution_count": null,
   "id": "a70dd72c-dae6-4116-8d36-dac651795778",
   "metadata": {},
   "outputs": [],
   "source": []
  },
  {
   "cell_type": "code",
   "execution_count": null,
   "id": "334bf9f7-3d07-4ba0-9e68-53e17b64046f",
   "metadata": {},
   "outputs": [],
   "source": []
  },
  {
   "cell_type": "code",
   "execution_count": null,
   "id": "c5b66abf-a66a-46b4-87f6-24795e70fa8c",
   "metadata": {},
   "outputs": [],
   "source": []
  }
 ],
 "metadata": {
  "kernelspec": {
   "display_name": "Python 3 (ipykernel)",
   "language": "python",
   "name": "python3"
  },
  "language_info": {
   "codemirror_mode": {
    "name": "ipython",
    "version": 3
   },
   "file_extension": ".py",
   "mimetype": "text/x-python",
   "name": "python",
   "nbconvert_exporter": "python",
   "pygments_lexer": "ipython3",
   "version": "3.13.0"
  }
 },
 "nbformat": 4,
 "nbformat_minor": 5
}
